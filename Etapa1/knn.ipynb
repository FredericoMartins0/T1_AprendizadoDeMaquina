{
 "cells": [
  {
   "cell_type": "markdown",
   "metadata": {},
   "source": []
  },
  {
   "cell_type": "markdown",
   "metadata": {},
   "source": [
    "Primeiramente deve-se organizar os dados e dividí-los entre dados de treino e dados de teste"
   ]
  },
  {
   "cell_type": "code",
   "execution_count": 59,
   "metadata": {},
   "outputs": [
    {
     "name": "stdout",
     "output_type": "stream",
     "text": [
      "     Culmen Length (mm)  Culmen Depth (mm)  Flipper Length (mm)  Body Mass (g)\n",
      "0                  39.1               18.7                181.0         3750.0\n",
      "1                  39.5               17.4                186.0         3800.0\n",
      "2                  40.3               18.0                195.0         3250.0\n",
      "3                   NaN                NaN                  NaN            NaN\n",
      "4                  36.7               19.3                193.0         3450.0\n",
      "..                  ...                ...                  ...            ...\n",
      "339                55.8               19.8                207.0         4000.0\n",
      "340                43.5               18.1                202.0         3400.0\n",
      "341                49.6               18.2                193.0         3775.0\n",
      "342                50.8               19.0                210.0         4100.0\n",
      "343                50.2               18.7                198.0         3775.0\n",
      "\n",
      "[344 rows x 4 columns]\n",
      "[[-0.88449874  0.78544923 -1.41834665 -0.56414208]\n",
      " [-0.81112573  0.1261879  -1.06225022 -0.50170305]\n",
      " [-0.66437972  0.43046236 -0.42127665 -1.18853234]\n",
      " ...\n",
      " [ 1.04154272  0.53188718 -0.56371522 -0.53292256]\n",
      " [ 1.26166175  0.93758646  0.64701263 -0.1270689 ]\n",
      " [ 1.15160224  0.78544923 -0.20761879 -0.53292256]]\n"
     ]
    }
   ],
   "source": [
    "import numpy as np\n",
    "import pandas as pd\n",
    "import collections\n",
    "from sklearn.preprocessing import StandardScaler\n",
    "\n",
    "data = pd.DataFrame(pd.read_csv('../penguins.csv'))\n",
    "split = 0.7\n",
    "ind_split = int(len(data) * split)\n",
    "treino = data[:ind_split]\n",
    "teste = data[ind_split:]\n",
    "\n",
    "# Selecionar apenas colunas numericas relevantes\n",
    "data = data.drop(columns=[\"studyName\", \"Sample Number\", \"Species\", \"Region\", \"Island\", \"Stage\", \"Individual ID\", \"Clutch Completion\", \"Date Egg\", \"Sex\", \"Delta 15 N (o/oo)\", \"Delta 13 C (o/oo)\", \"Comments\"])\n",
    "print(data)\n",
    "\n",
    "# Normalizar dados\n",
    "scaler = StandardScaler()\n",
    "scaler.fit(data)\n",
    "normalized_data = scaler.transform(data)\n",
    "print(normalized_data)\n",
    "\n",
    "#treino.to_csv('Treino.csv',index=False)\n",
    "#teste.to_csv('Teste.csv',index=False)"
   ]
  },
  {
   "cell_type": "markdown",
   "metadata": {},
   "source": [
    "kNN:\n",
    "• Algoritmo para busca do vizinho mais próximo: Força Bruta e KD Tree;\n",
    "• Métrica: Distância Euclidiana\n",
    "• k: 1, 3 ou 5 para força bruta, k=1 para KD Tree\n",
    "• Tipos de Features: Numéricas"
   ]
  },
  {
   "cell_type": "code",
   "execution_count": 31,
   "metadata": {},
   "outputs": [
    {
     "name": "stdout",
     "output_type": "stream",
     "text": [
      "1.4142135623730951\n"
     ]
    }
   ],
   "source": [
    "def minkowski(r=2):\n",
    "    return lambda x,y: sum(abs(x - y)**r) ** (1/r)\n",
    "\n",
    "#x = np.array( [0,0] )\n",
    "#y = np.array( [1,1] )\n",
    "#l2 = minkowski(2)\n",
    "#print(l2(x,y))\n",
    "\n",
    "def knn(x, universe, k=3, dist=minkowski(2)):\n",
    "    dists = [ tuple(dist(x, point), label) for (point, label) in universe ]\n",
    "    dists.sort(key=lambda y: y[1])\n",
    "    nns = dists[:k]\n",
    "    labels = [ n[1] for n in nns ]\n",
    "    classification = collections.Counter(labels).most_common(1)\n",
    "    return classification.popitem()[1]"
   ]
  }
 ],
 "metadata": {
  "interpreter": {
   "hash": "2302e95b8ae7d8a7bd3b88c4be156fe5ce951f0b350a984295d2ca7196f8fc64"
  },
  "kernelspec": {
   "display_name": "Python 3.9.12 64-bit (windows store)",
   "language": "python",
   "name": "python3"
  },
  "language_info": {
   "codemirror_mode": {
    "name": "ipython",
    "version": 3
   },
   "file_extension": ".py",
   "mimetype": "text/x-python",
   "name": "python",
   "nbconvert_exporter": "python",
   "pygments_lexer": "ipython3",
   "version": "3.10.4"
  },
  "orig_nbformat": 4
 },
 "nbformat": 4,
 "nbformat_minor": 2
}
