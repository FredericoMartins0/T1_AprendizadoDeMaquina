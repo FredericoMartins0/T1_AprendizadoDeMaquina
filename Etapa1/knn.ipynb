{
 "cells": [
  {
   "cell_type": "markdown",
   "metadata": {},
   "source": [
    "Primeiramente deve-se organizar os dados e dividí-los entre dados de treino e dados de teste"
   ]
  },
  {
   "cell_type": "code",
   "execution_count": 18,
   "metadata": {},
   "outputs": [],
   "source": [
    "import numpy as np\n",
    "import pandas as pd\n",
    "import collections\n",
    "\n",
    "data = pd.DataFrame(pd.read_csv('../penguins.csv'))\n",
    "treino = data[:240]\n",
    "treino.to_csv('Treino.csv',index=False)\n",
    "teste = data[240:]\n",
    "teste.to_csv('Teste.csv',index=False)"
   ]
  },
  {
   "cell_type": "markdown",
   "metadata": {},
   "source": [
    "kNN:\n",
    "• Algoritmo para busca do vizinho mais próximo: Força Bruta e KD Tree;\n",
    "• Métrica: Distância Euclidiana\n",
    "• k: 1, 3 ou 5 para força bruta, k=1 para KD Tree\n",
    "• Tipos de Features: Numéricas"
   ]
  },
  {
   "cell_type": "code",
   "execution_count": 20,
   "metadata": {},
   "outputs": [],
   "source": [
    "def minkowski(r=2):\n",
    "    # TODO precisa de list comprehension se forem listas do numpy? \n",
    "    return lambda x,y: sum([ abs(x[i] - y[i])**r for i in range(len(x)) ]) ** (1/r)\n",
    "\n",
    "def knn(x, universe, k=3, dist=minkowski(2)):\n",
    "    dists = [ tuple(dist(x, point), label) for (point, label) in universe ]\n",
    "    dists.sort(key=lambda y: y[1])\n",
    "    nns = dists[:k]\n",
    "    labels = [ n[1] for n in nns ]\n",
    "    classification = collections.Counter(labels).most_common(1)\n",
    "\n",
    "    return classification"
   ]
  }
 ],
 "metadata": {
  "interpreter": {
   "hash": "2302e95b8ae7d8a7bd3b88c4be156fe5ce951f0b350a984295d2ca7196f8fc64"
  },
  "kernelspec": {
   "display_name": "Python 3.9.12 64-bit (windows store)",
   "language": "python",
   "name": "python3"
  },
  "language_info": {
   "codemirror_mode": {
    "name": "ipython",
    "version": 3
   },
   "file_extension": ".py",
   "mimetype": "text/x-python",
   "name": "python",
   "nbconvert_exporter": "python",
   "pygments_lexer": "ipython3",
   "version": "3.10.4"
  },
  "orig_nbformat": 4
 },
 "nbformat": 4,
 "nbformat_minor": 2
}
