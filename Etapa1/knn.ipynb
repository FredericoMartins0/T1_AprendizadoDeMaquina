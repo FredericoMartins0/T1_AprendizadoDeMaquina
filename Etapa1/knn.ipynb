{
 "cells": [
  {
   "cell_type": "markdown",
   "metadata": {},
   "source": [
    "Etapa 1: Implementção"
   ]
  },
  {
   "cell_type": "markdown",
   "metadata": {},
   "source": [
    "kNN:\n",
    "• Algoritmo para busca do vizinho mais próximo: Força Bruta e KD Tree;\n",
    "• Métrica: Distância Euclidiana\n",
    "• k: 1, 3 ou 5 para força bruta, k=1 para KD Tree\n",
    "• Tipos de Features: Numéricas"
   ]
  },
  {
   "cell_type": "code",
   "execution_count": 48,
   "metadata": {},
   "outputs": [],
   "source": [
    "import collections\n",
    "\n",
    "def minkowski(r=2):\n",
    "    return lambda x,y: sum(abs(x - y)**r) ** (1/r)\n",
    "\n",
    "def knn(observation, X_treino, Y_treino, k=3, dist=minkowski(2)):\n",
    "    # dists = lista de pares (distancia, rotulo)\n",
    "    dists = [ (dist(observation, x), y) for (x,y) in list(zip(X_treino, Y_treino)) ]\n",
    "    dists.sort(key=lambda y: y[0])\n",
    "    nns = dists[:k]\n",
    "    # Extrai somente rotulos\n",
    "    labels = [ n[1] for n in nns ]\n",
    "    # Retorna lista (de tamanho 1, segundo o parametro) de elemento mais comuns, pares (rotulo, num de occorencias)\n",
    "    classification = collections.Counter(labels).most_common(1)\n",
    "    # Retorna apenas o rotulo desse unico elemento\n",
    "    return classification[0][0]"
   ]
  },
  {
   "cell_type": "code",
   "execution_count": 11,
   "metadata": {},
   "outputs": [],
   "source": [
    "class KDTree:\n",
    "    def __init__(self, X_treino, dim=0):\n",
    "        print( \"dim\" + str(dim) )\n",
    "        print( \"x\" + str(X_treino))\n",
    "        # Divide no meio a dimensao correspondente\n",
    "        self.median_ind = len(X_treino)//2\n",
    "        #self.value = X_treino.sort(key=lambda y: y[dim])[self.median_ind]\n",
    "        X_treino.sort(axis=dim) #TODO isso so nesse escopo ne?\n",
    "        self.value = X_treino[self.median_ind]\n",
    "\n",
    "        max_dim = len(X_treino[0])\n",
    "\n",
    "        # Cria nodos filhos caso possivel\n",
    "        self.left, self.right = None, None\n",
    "        if self.median_ind > 0:\n",
    "            print(\"left\")\n",
    "            self.left_split  = X_treino[self.median_ind-1:]\n",
    "            print(\"leftside\" + self.left_split)\n",
    "            self.left  = self.__init__(self.left_split,  dim = (dim+1) % max_dim )\n",
    "\n",
    "        if len(X_treino)-self.median_ind-1 > 0:\n",
    "            print(\"right\")\n",
    "            self.right_split = X_treino[:self.median_ind+1]\n",
    "            self.right = self.__init__(self.right_split, dim = (dim+1) % max_dim )\n",
    "\n",
    "        print(self.left, self.value, self.right)\n",
    "\n",
    "def knn_kdtree():\n",
    "    pass"
   ]
  },
  {
   "cell_type": "code",
   "execution_count": 3,
   "metadata": {},
   "outputs": [
    {
     "ename": "NameError",
     "evalue": "name 'normalized_train' is not defined",
     "output_type": "error",
     "traceback": [
      "\u001b[1;31m---------------------------------------------------------------------------\u001b[0m",
      "\u001b[1;31mNameError\u001b[0m                                 Traceback (most recent call last)",
      "\u001b[1;32mc:\\Users\\paulo\\College\\AM\\T1_AprendizadoDeMaquina\\Etapa1\\knn.ipynb Cell 5'\u001b[0m in \u001b[0;36m<cell line: 1>\u001b[1;34m()\u001b[0m\n\u001b[1;32m----> <a href='vscode-notebook-cell:/c%3A/Users/paulo/College/AM/T1_AprendizadoDeMaquina/Etapa1/knn.ipynb#ch0000011?line=0'>1</a>\u001b[0m temp \u001b[39m=\u001b[39m normalized_train[:\u001b[39m2\u001b[39m]\n\u001b[0;32m      <a href='vscode-notebook-cell:/c%3A/Users/paulo/College/AM/T1_AprendizadoDeMaquina/Etapa1/knn.ipynb#ch0000011?line=1'>2</a>\u001b[0m \u001b[39mprint\u001b[39m(temp)\n\u001b[0;32m      <a href='vscode-notebook-cell:/c%3A/Users/paulo/College/AM/T1_AprendizadoDeMaquina/Etapa1/knn.ipynb#ch0000011?line=2'>3</a>\u001b[0m kd \u001b[39m=\u001b[39m KDTree(temp)\n",
      "\u001b[1;31mNameError\u001b[0m: name 'normalized_train' is not defined"
     ]
    }
   ],
   "source": [
    "temp = normalized_train[:2]\n",
    "print(temp)\n",
    "kd = KDTree(temp)\n",
    "#print(normalized_train[:1])"
   ]
  },
  {
   "cell_type": "code",
   "execution_count": null,
   "metadata": {},
   "outputs": [],
   "source": [
    "def naive_bayes():\n",
    "    pass"
   ]
  },
  {
   "cell_type": "markdown",
   "metadata": {},
   "source": [
    "Etapa 2: Treinamento e Inferência\n",
    "\n",
    "Primeiramente deve-se organizar os dados e dividí-los entre dados de treino e dados de teste"
   ]
  },
  {
   "cell_type": "code",
   "execution_count": 36,
   "metadata": {},
   "outputs": [],
   "source": [
    "import numpy as np\n",
    "import pandas as pd\n",
    "from sklearn.preprocessing import StandardScaler\n",
    "from sklearn.model_selection import train_test_split\n",
    "\n",
    "data = pd.DataFrame(pd.read_csv('../penguins.csv'))\n",
    "\n",
    "# Retirar valores invalidos\n",
    "data.replace(\"Na\",float(\"NaN\"),inplace=True)\n",
    "data.dropna(subset=[\"Culmen Length (mm)\"], inplace=True)\n",
    "\n",
    "# Shuffle dos dados não balanceados\n",
    "#data = data.sample(frac=1)\n",
    "\n",
    "# Separar atributo alvo dos restantes\n",
    "y = data[\"Species\"]\n",
    "x = data.drop(columns=\"Species\")\n",
    "\n",
    "# Selecionar apenas colunas numericas relevantes\n",
    "x = x.drop(columns=[\"studyName\", \"Sample Number\", \"Region\", \"Island\", \"Stage\", \"Individual ID\", \"Clutch Completion\", \"Date Egg\", \"Sex\", \"Delta 15 N (o/oo)\", \"Delta 13 C (o/oo)\", \"Comments\"])\n",
    "\n",
    "# Split dos dados\n",
    "x_train, x_test, y_train, y_test = train_test_split(x, y, test_size = 0.30, shuffle=True)\n",
    "\n",
    "#split = 0.7\n",
    "#ind_split = int(len(data) * split)\n",
    "#\n",
    "#x_treino = x[:ind_split]\n",
    "#y_treino = y[:ind_split]\n",
    "#\n",
    "#x_teste = x[ind_split:]\n",
    "#y_teste = y[ind_split:]\n",
    "\n",
    "# Normalizar dados\n",
    "scaler = StandardScaler()\n",
    "normalized_train = scaler.fit_transform(x_train)\n",
    "\n",
    "normalized_test = scaler.transform(x_test)"
   ]
  },
  {
   "cell_type": "code",
   "execution_count": null,
   "metadata": {},
   "outputs": [],
   "source": [
    "print(list(zip(normalized_train, y_train.to_numpy())))"
   ]
  },
  {
   "cell_type": "code",
   "execution_count": 50,
   "metadata": {},
   "outputs": [
    {
     "name": "stdout",
     "output_type": "stream",
     "text": [
      "True\n",
      "True\n",
      "True\n",
      "True\n",
      "True\n",
      "True\n",
      "True\n",
      "True\n",
      "True\n",
      "True\n",
      "True\n",
      "True\n",
      "True\n",
      "True\n",
      "True\n",
      "True\n",
      "True\n",
      "True\n",
      "True\n",
      "True\n",
      "True\n",
      "True\n",
      "True\n",
      "True\n",
      "True\n",
      "True\n",
      "True\n",
      "True\n",
      "True\n",
      "True\n",
      "True\n",
      "True\n",
      "True\n",
      "True\n",
      "True\n",
      "True\n",
      "True\n",
      "True\n",
      "True\n",
      "True\n",
      "True\n",
      "True\n",
      "True\n",
      "True\n",
      "False\n",
      "True\n",
      "True\n",
      "True\n",
      "True\n",
      "True\n",
      "True\n",
      "True\n",
      "True\n",
      "True\n",
      "True\n",
      "True\n",
      "True\n",
      "False\n",
      "True\n",
      "True\n",
      "True\n",
      "True\n",
      "True\n",
      "True\n",
      "True\n",
      "True\n",
      "True\n",
      "True\n",
      "True\n",
      "True\n",
      "True\n",
      "True\n",
      "True\n",
      "True\n",
      "True\n",
      "True\n",
      "True\n",
      "True\n",
      "True\n",
      "True\n",
      "True\n",
      "True\n",
      "True\n",
      "True\n",
      "True\n",
      "True\n",
      "True\n",
      "True\n",
      "True\n",
      "True\n",
      "True\n",
      "True\n",
      "True\n",
      "True\n",
      "True\n",
      "True\n",
      "True\n",
      "True\n",
      "True\n",
      "True\n",
      "True\n",
      "True\n",
      "True\n"
     ]
    }
   ],
   "source": [
    "# kd a tree???\n",
    "\n",
    "# achei a tree\n",
    "#aux = knn(normalized_test.iloc[[0]],x_teste,y_teste)\n",
    "#print(np.append(x_teste, y_teste[..., np.newaxis], axis=1))\n",
    "\n",
    "#umteste = normalized_test[0]\n",
    "#y_hat = knn(umteste, normalized_train, y_train.to_numpy())\n",
    "for (x,y) in zip(normalized_test, y_test.to_numpy()):\n",
    "    y_hat = knn(x, normalized_train, y_train.to_numpy(), k=3)\n",
    "    #print(y_hat, x)\n",
    "    print(y_hat == y)"
   ]
  }
 ],
 "metadata": {
  "interpreter": {
   "hash": "2302e95b8ae7d8a7bd3b88c4be156fe5ce951f0b350a984295d2ca7196f8fc64"
  },
  "kernelspec": {
   "display_name": "Python 3.9.12 64-bit (windows store)",
   "language": "python",
   "name": "python3"
  },
  "language_info": {
   "codemirror_mode": {
    "name": "ipython",
    "version": 3
   },
   "file_extension": ".py",
   "mimetype": "text/x-python",
   "name": "python",
   "nbconvert_exporter": "python",
   "pygments_lexer": "ipython3",
   "version": "3.9.12"
  },
  "orig_nbformat": 4
 },
 "nbformat": 4,
 "nbformat_minor": 2
}
