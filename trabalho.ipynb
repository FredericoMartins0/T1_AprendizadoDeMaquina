{
 "cells": [
  {
   "cell_type": "markdown",
   "metadata": {},
   "source": [
    "# Etapa 1: Implementação\n",
    "\n",
    "Implementação do kNN Força Bruta"
   ]
  },
  {
   "cell_type": "code",
   "execution_count": 1,
   "metadata": {},
   "outputs": [],
   "source": [
    "import collections\n",
    "\n",
    "def minkowski(r=2):\n",
    "    return lambda x,y: sum(abs(x - y)**r) ** (1/r)\n",
    "\n",
    "def knn(observation, data, classes, k=3, dist=minkowski(2)):\n",
    "    # dists = lista de pares (distancia, rotulo)\n",
    "    dists = [ (dist(observation, x), y) for (x,y) in list(zip(data, classes)) ]\n",
    "    dists.sort(key=lambda y: y[0])\n",
    "    nns = dists[:k]\n",
    "\n",
    "    # Extrai somente rotulos\n",
    "    labels = [ n[1] for n in nns ]\n",
    "\n",
    "    # Retorna lista (de tamanho 1, segundo o parametro) de elemento mais comuns, pares (rotulo, num de occorencias)\n",
    "    classification = collections.Counter(labels).most_common(1)\n",
    "\n",
    "    # Retorna apenas o rotulo desse unico elemento\n",
    "    return classification[0][0]"
   ]
  },
  {
   "cell_type": "markdown",
   "metadata": {},
   "source": [
    "Implementação do kNN utilizando KD-Tree"
   ]
  },
  {
   "cell_type": "code",
   "execution_count": 2,
   "metadata": {},
   "outputs": [],
   "source": [
    "class KDTree:\n",
    "    def __init__(self, data, classes, dim=0):\n",
    "        self.data = data.copy()\n",
    "        self.classes = classes.copy()\n",
    "\n",
    "        # Acha o indice do meio \n",
    "        self.sort_indices = self.data[:, dim].argsort()\n",
    "        self.data = self.data[self.sort_indices]\n",
    "        self.classes =  self.classes[self.sort_indices]\n",
    "        self.median_ind = len(self.data)//2\n",
    "\n",
    "        # Podem existir valores iguais para a direita, achar o mais extremo\n",
    "        # assim garantimos que quando caminhar-mos pela arvore valores <= estarao a esquerda e\n",
    "        # > estarao para a direita\n",
    "        while self.median_ind+1 < len(self.data) and self.data[self.median_ind, dim] == self.data[self.median_ind+1, dim]:\n",
    "            self.median_ind += 1\n",
    "\n",
    "        # Divide no meio a dimensao correspondente\n",
    "        self.value = self.data[self.median_ind]\n",
    "        self.my_class = classes[self.median_ind]\n",
    "\n",
    "        self.max_dim = len(self.data[0])\n",
    "        self.next_dim = (dim+1) % self.max_dim\n",
    "\n",
    "        # Cria nodos filhos caso possivel\n",
    "        self.left, self.right = None, None\n",
    "        if self.median_ind > 0:\n",
    "            self.left_split  = self.data[:self.median_ind]\n",
    "            self.left  = KDTree(self.left_split, self.classes[:self.median_ind],  dim = self.next_dim)\n",
    "\n",
    "        if len(self.data)-self.median_ind-1 > 0:\n",
    "            self.right_split = self.data[self.median_ind+1:]\n",
    "            self.right  = KDTree(self.right_split, self.classes[self.median_ind+1:], dim = self.next_dim)\n",
    "\n",
    "\n",
    "    # Retorna somente a classe\n",
    "    def knn_wrapper(self, observation, dist=minkowski(2)):\n",
    "        return self.knn(observation, dim=0, dist=dist)[1]\n",
    "\n",
    "\n",
    "    # Retorna tupla (coord_do_possivel_nn, class_do_possivel_nn)\n",
    "    def knn(self, observation, dim=0, dist=minkowski(2)):\n",
    "        # Se to na folha o possible_nn é o valor da folha\n",
    "        if self.left == None and self.right == None: \n",
    "            return (self.value, self.my_class)\n",
    "\n",
    "        # Se nao é folha \n",
    "        else:\n",
    "            self.max_dim = len(observation)\n",
    "            self.next_dim = (dim+1) % self.max_dim\n",
    "\n",
    "            # Acha good e bad sides\n",
    "            if observation[dim] <= self.value[dim]:\n",
    "                self.good_side, self.bad_side = self.left, self.right\n",
    "            else: \n",
    "                self.good_side, self.bad_side = self.right, self.left\n",
    "            \n",
    "            # pega possible_nn do good side (se existe)\n",
    "            if self.good_side is None:\n",
    "                self.current_dist = float(\"+inf\")\n",
    "            else: \n",
    "                self.possible_nn = self.good_side.knn(observation, self.next_dim, dist=dist)\n",
    "                self.current_dist = dist(observation, self.possible_nn[0])\n",
    "\n",
    "            # Compara se esse ponto de corte, a raiz da subarvore atual, pode ser o NN\n",
    "            self.root_dist = dist(observation, self.value) \n",
    "            if self.root_dist < self.current_dist:\n",
    "                self.possible_nn = (self.value, self.my_class)\n",
    "                self.current_dist = self.root_dist\n",
    "\n",
    "            # Tendo ele, verifica se vale a pena chegar o lado ruim\n",
    "            # O melhor caso do lado ruim seria ter um ponto com cordenadas identicas a nossa observacao, \n",
    "            # exceto na dimensao de corte, onde ele teria o valor identico ao plano de corte\n",
    "            self.ideal_bad_side_nn = observation.copy()\n",
    "            self.ideal_bad_side_nn[dim] = self.value[dim]\n",
    "            self.bad_side_ideal_dist = dist(observation, self.ideal_bad_side_nn) \n",
    "\n",
    "            if self.bad_side_ideal_dist < self.current_dist:\n",
    "\n",
    "                # pega nn do bad_side (se bad_side existe)\n",
    "                if self.bad_side is None:\n",
    "                    self.bad_side_nn_dist = float(\"+inf\")\n",
    "                else: \n",
    "                    self.bad_side_nn = self.bad_side.knn(observation, self.next_dim, dist=dist)\n",
    "                    self.bad_side_nn_dist = dist(observation, self.bad_side_nn[0])\n",
    "\n",
    "                if self.bad_side_nn_dist < self.current_dist:\n",
    "                    self.possible_nn = self.bad_side_nn\n",
    "\n",
    "            return self.possible_nn"
   ]
  },
  {
   "cell_type": "code",
   "execution_count": 3,
   "metadata": {},
   "outputs": [],
   "source": [
    "def naive_bayes():\n",
    "    pass"
   ]
  },
  {
   "cell_type": "markdown",
   "metadata": {},
   "source": [
    "# Etapa 2: Treinamento e Inferência\n",
    "\n",
    "Primeiramente deve-se organizar os dados e dividí-los entre dados de treino e dados de teste"
   ]
  },
  {
   "cell_type": "code",
   "execution_count": 4,
   "metadata": {},
   "outputs": [],
   "source": [
    "import numpy as np\n",
    "import pandas as pd\n",
    "from sklearn.preprocessing import StandardScaler\n",
    "from sklearn.model_selection import train_test_split\n",
    "\n",
    "data = pd.DataFrame(pd.read_csv('./penguins.csv'))\n",
    "\n",
    "# Retirar valores invalidos\n",
    "data.replace(\"Na\",float(\"NaN\"),inplace=True)\n",
    "data.dropna(subset=[\"Culmen Length (mm)\"], inplace=True)\n",
    "\n",
    "# Separar atributo alvo dos restantes\n",
    "y = data[\"Species\"]\n",
    "x = data.drop(columns=\"Species\")\n",
    "\n",
    "# Selecionar apenas colunas numericas relevantes\n",
    "x = x.drop(columns=[\"studyName\", \"Sample Number\", \"Region\", \"Island\", \"Stage\", \"Individual ID\", \"Clutch Completion\", \"Date Egg\", \"Sex\", \"Delta 15 N (o/oo)\", \"Delta 13 C (o/oo)\", \"Comments\"])\n",
    "\n",
    "# Split dos dados com shuffle\n",
    "x_train, x_test, y_train, y_test = train_test_split(x, y, test_size = 0.30, shuffle=True, random_state=1337)\n",
    "\n",
    "# Normalizar dados\n",
    "scaler = StandardScaler()\n",
    "normalized_train = scaler.fit_transform(x_train)\n",
    "\n",
    "normalized_test = scaler.transform(x_test)\n",
    "\n",
    "# Passar classes para arrays np\n",
    "y_train = y_train.to_numpy()\n",
    "y_test = y_test.to_numpy()"
   ]
  },
  {
   "cell_type": "markdown",
   "metadata": {},
   "source": [
    "Desempenho do kNN Força Bruta (k=3):\n",
    "\n",
    "Nota: utilizamos do código do Jupyter Notebook da Semana 3 para desenhar a matriz e calcular o report"
   ]
  },
  {
   "cell_type": "code",
   "execution_count": 5,
   "metadata": {},
   "outputs": [],
   "source": [
    "from sklearn.metrics import classification_report, confusion_matrix, ConfusionMatrixDisplay\n",
    "import matplotlib.pyplot as plt\n",
    "\n",
    "def draw_cm(y_test, y_hat):\n",
    "    cm = confusion_matrix(y_test, y_hat)\n",
    "    display_confusion_matrix = ConfusionMatrixDisplay(cm)\n",
    "    display_confusion_matrix.plot(cmap=plt.cm.Blues)\n",
    "    print(classification_report(y_test, y_hat))"
   ]
  },
  {
   "cell_type": "code",
   "execution_count": 6,
   "metadata": {},
   "outputs": [
    {
     "name": "stdout",
     "output_type": "stream",
     "text": [
      "                                           precision    recall  f1-score   support\n",
      "\n",
      "      Adelie Penguin (Pygoscelis adeliae)       0.98      1.00      0.99        45\n",
      "Chinstrap penguin (Pygoscelis antarctica)       1.00      0.95      0.98        21\n",
      "        Gentoo penguin (Pygoscelis papua)       1.00      1.00      1.00        37\n",
      "\n",
      "                                 accuracy                           0.99       103\n",
      "                                macro avg       0.99      0.98      0.99       103\n",
      "                             weighted avg       0.99      0.99      0.99       103\n",
      "\n"
     ]
    },
    {
     "data": {
      "image/png": "[encoded data removed]",
      "text/plain": [
       "<Figure size 432x288 with 2 Axes>"
      ]
     },
     "metadata": {
      "needs_background": "light"
     },
     "output_type": "display_data"
    }
   ],
   "source": [
    "y_hat_brute = []\n",
    "for (x,y) in zip(normalized_test, y_test):\n",
    "    y_hat_brute.append(knn(x, normalized_train, y_train, k=3))\n",
    "\n",
    "draw_cm(y_test, y_hat_brute)\n"
   ]
  },
  {
   "cell_type": "markdown",
   "metadata": {},
   "source": [
    "Desempenho do kNN KDTree"
   ]
  },
  {
   "cell_type": "code",
   "execution_count": 7,
   "metadata": {},
   "outputs": [
    {
     "name": "stdout",
     "output_type": "stream",
     "text": [
      "                                           precision    recall  f1-score   support\n",
      "\n",
      "      Adelie Penguin (Pygoscelis adeliae)       0.96      0.96      0.96        45\n",
      "Chinstrap penguin (Pygoscelis antarctica)       0.90      0.90      0.90        21\n",
      "        Gentoo penguin (Pygoscelis papua)       1.00      1.00      1.00        37\n",
      "\n",
      "                                 accuracy                           0.96       103\n",
      "                                macro avg       0.95      0.95      0.95       103\n",
      "                             weighted avg       0.96      0.96      0.96       103\n",
      "\n"
     ]
    },
    {
     "data": {
      "image/png": "[encoded data removed]",
      "text/plain": [
       "<Figure size 432x288 with 2 Axes>"
      ]
     },
     "metadata": {
      "needs_background": "light"
     },
     "output_type": "display_data"
    }
   ],
   "source": [
    "# kd a tree?\n",
    "\n",
    "# Achei a tree\n",
    "tree = KDTree(normalized_train, y_train)\n",
    "\n",
    "y_hat_tree = []\n",
    "for (x,y) in zip(normalized_test, y_test):\n",
    "    y_hat_tree.append(tree.knn_wrapper(x))\n",
    "\n",
    "draw_cm(y_test, y_hat_tree)"
   ]
  }
 ],
 "metadata": {
  "interpreter": {
   "hash": "2302e95b8ae7d8a7bd3b88c4be156fe5ce951f0b350a984295d2ca7196f8fc64"
  },
  "kernelspec": {
   "display_name": "Python 3.9.12 64-bit (windows store)",
   "language": "python",
   "name": "python3"
  },
  "language_info": {
   "codemirror_mode": {
    "name": "ipython",
    "version": 3
   },
   "file_extension": ".py",
   "mimetype": "text/x-python",
   "name": "python",
   "nbconvert_exporter": "python",
   "pygments_lexer": "ipython3",
   "version": "3.10.4"
  },
  "orig_nbformat": 4
 },
 "nbformat": 4,
 "nbformat_minor": 2
}
